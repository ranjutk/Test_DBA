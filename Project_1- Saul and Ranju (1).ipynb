{
 "cells": [
  {
   "cell_type": "markdown",
   "metadata": {},
   "source": [
    "## Project 1- Saul Alas-Garcia and Ranju Thomas\n",
    "\n",
    "(1) Create a .CSV file (or optionally, a MySQL database!) that includes all of the information below. You may change the structure of the information as you like.\n",
    "(2) Read the information from your .CSV file into pandas, and perform analysis to compare the arrival delays for the two airlines.\n",
    "(3) Your code should be in a Jupyter (IPython) notebook (in GitHub), and should include narrative descriptions of your analysis and conclusions.\n",
    "\n",
    "*Here is the sql code we used to create the csv file*"
   ]
  },
  {
   "cell_type": "code",
   "execution_count": null,
   "metadata": {
    "collapsed": true
   },
   "outputs": [],
   "source": [
    "CREATE TABLE IF NOT EXISTS flights(\n",
    "ID int AUTO_INCREMENT,\n",
    "City varchar(255),\n",
    "Alaska_On_Time varchar(255),\n",
    "Alaska_Delay varchar(255),\n",
    "AM_West_On_Time varchar(255),\n",
    "AM_West_Delay varchar(255),\n",
    "PRIMARY KEY (ID)\n",
    ");\n",
    "\n",
    "TRUNCATE TABLE flights;\n",
    "\n",
    "\n",
    "INSERT INTO flights (city, Alaska_On_Time, Alaska_Delay, AM_West_On_Time, AM_West_Delay)\n",
    "Values\n",
    "('Los Angeles', 497, 62, 694, 117),\n",
    "('Phoenix', 221, 12, 4840, 415),\n",
    "('San Diego', 212, 20, 383, 65),\n",
    "('San Francisco', 503, 102, 320, 129),\n",
    "('Seattle', 1841, 305, 201, 61);\n",
    "\n",
    "Select * FROM flights;"
   ]
  },
  {
   "cell_type": "markdown",
   "metadata": {},
   "source": [
    "*Let's export Libraries*"
   ]
  },
  {
   "cell_type": "code",
   "execution_count": 7,
   "metadata": {},
   "outputs": [],
   "source": [
    "from pandas import DataFrame, read_csv\n",
    "import pandas as pd\n",
    "import csv\n",
    "import matplotlib.pyplot as plt\n",
    "import urllib.request\n",
    "import matplotlib \n",
    "import io\n",
    "import requests\n",
    "\n",
    "\n",
    "%matplotlib inline\n"
   ]
  },
  {
   "cell_type": "markdown",
   "metadata": {},
   "source": [
    "## Reading the file from csv and loading it"
   ]
  },
  {
   "cell_type": "code",
   "execution_count": 8,
   "metadata": {},
   "outputs": [
    {
     "data": {
      "text/html": [
       "<div>\n",
       "<style scoped>\n",
       "    .dataframe tbody tr th:only-of-type {\n",
       "        vertical-align: middle;\n",
       "    }\n",
       "\n",
       "    .dataframe tbody tr th {\n",
       "        vertical-align: top;\n",
       "    }\n",
       "\n",
       "    .dataframe thead th {\n",
       "        text-align: right;\n",
       "    }\n",
       "</style>\n",
       "<table border=\"1\" class=\"dataframe\">\n",
       "  <thead>\n",
       "    <tr style=\"text-align: right;\">\n",
       "      <th></th>\n",
       "      <th>ID</th>\n",
       "      <th>City</th>\n",
       "      <th>Alaska_On_Time</th>\n",
       "      <th>Alaska_Delay</th>\n",
       "      <th>AM_West_On_Time</th>\n",
       "      <th>AM_West_Delay</th>\n",
       "    </tr>\n",
       "  </thead>\n",
       "  <tbody>\n",
       "    <tr>\n",
       "      <th>0</th>\n",
       "      <td>1</td>\n",
       "      <td>Los Angeles</td>\n",
       "      <td>497</td>\n",
       "      <td>62</td>\n",
       "      <td>694</td>\n",
       "      <td>117</td>\n",
       "    </tr>\n",
       "    <tr>\n",
       "      <th>1</th>\n",
       "      <td>2</td>\n",
       "      <td>Phoenix</td>\n",
       "      <td>221</td>\n",
       "      <td>12</td>\n",
       "      <td>4840</td>\n",
       "      <td>415</td>\n",
       "    </tr>\n",
       "    <tr>\n",
       "      <th>2</th>\n",
       "      <td>3</td>\n",
       "      <td>San Diego</td>\n",
       "      <td>212</td>\n",
       "      <td>20</td>\n",
       "      <td>383</td>\n",
       "      <td>65</td>\n",
       "    </tr>\n",
       "    <tr>\n",
       "      <th>3</th>\n",
       "      <td>4</td>\n",
       "      <td>San Francisco</td>\n",
       "      <td>503</td>\n",
       "      <td>102</td>\n",
       "      <td>320</td>\n",
       "      <td>129</td>\n",
       "    </tr>\n",
       "    <tr>\n",
       "      <th>4</th>\n",
       "      <td>5</td>\n",
       "      <td>Seattle</td>\n",
       "      <td>1841</td>\n",
       "      <td>305</td>\n",
       "      <td>201</td>\n",
       "      <td>61</td>\n",
       "    </tr>\n",
       "  </tbody>\n",
       "</table>\n",
       "</div>"
      ],
      "text/plain": [
       "   ID           City  Alaska_On_Time  Alaska_Delay  AM_West_On_Time  \\\n",
       "0   1    Los Angeles             497            62              694   \n",
       "1   2        Phoenix             221            12             4840   \n",
       "2   3      San Diego             212            20              383   \n",
       "3   4  San Francisco             503           102              320   \n",
       "4   5        Seattle            1841           305              201   \n",
       "\n",
       "   AM_West_Delay  \n",
       "0            117  \n",
       "1            415  \n",
       "2             65  \n",
       "3            129  \n",
       "4             61  "
      ]
     },
     "execution_count": 8,
     "metadata": {},
     "output_type": "execute_result"
    }
   ],
   "source": [
    "df = pd.read_csv(r'C:\\Users\\Ranju\\Desktop\\Jupyter\\Project 1\\project_1.csv')  #Complete  url where the file is located\n",
    "\n",
    "df.head()"
   ]
  },
  {
   "cell_type": "markdown",
   "metadata": {},
   "source": [
    "### We are now plotting the delay of AM_West Airline in each city"
   ]
  },
  {
   "cell_type": "code",
   "execution_count": 41,
   "metadata": {},
   "outputs": [
    {
     "data": {
      "text/plain": [
       "City\n",
       "Los Angeles      117\n",
       "Phoenix          415\n",
       "San Diego         65\n",
       "San Francisco    129\n",
       "Seattle           61\n",
       "Name: AM_West_Delay, dtype: int64"
      ]
     },
     "execution_count": 41,
     "metadata": {},
     "output_type": "execute_result"
    },
    {
     "data": {
      "image/png": "[encoded data removed]",
      "text/plain": [
       "<Figure size 432x288 with 1 Axes>"
      ]
     },
     "metadata": {},
     "output_type": "display_data"
    }
   ],
   "source": [
    "df1=df.groupby('City')['AM_West_Delay'].mean()  # Use of groupby and .mean() will make sure the index is not plotted on x-axis\n",
    "#df.groupby(\"country\")['unemployment']\n",
    "df1.plot.bar()\n",
    "plt.suptitle('Dealyed Chart of AM West Airlines')\n",
    "plt.xlabel('City')\n",
    "plt.ylabel('Delay Time')\n",
    "\n",
    "df1.head()"
   ]
  },
  {
   "cell_type": "markdown",
   "metadata": {},
   "source": [
    "### We are now plotting the delay of Alaska Airline in each city"
   ]
  },
  {
   "cell_type": "code",
   "execution_count": 42,
   "metadata": {},
   "outputs": [
    {
     "data": {
      "text/plain": [
       "City\n",
       "Los Angeles       62\n",
       "Phoenix           12\n",
       "San Diego         20\n",
       "San Francisco    102\n",
       "Seattle          305\n",
       "Name: Alaska_Delay, dtype: int64"
      ]
     },
     "execution_count": 42,
     "metadata": {},
     "output_type": "execute_result"
    },
    {
     "data": {
      "image/png": "[encoded data removed]",
      "text/plain": [
       "<Figure size 432x288 with 1 Axes>"
      ]
     },
     "metadata": {},
     "output_type": "display_data"
    }
   ],
   "source": [
    "df2=df.groupby('City')['Alaska_Delay'].mean()  # Use of groupby and .mean() will make sure the index is not plotted on x-axis\n",
    "df2.plot.bar()\n",
    "plt.suptitle('Dealyed Chart of Alaska Airlines')\n",
    "plt.xlabel('City')\n",
    "plt.ylabel('Delay Time')\n",
    "\n",
    "df2.head()"
   ]
  },
  {
   "cell_type": "markdown",
   "metadata": {},
   "source": [
    "### We are now plotting the delay of both airline together in each city"
   ]
  },
  {
   "cell_type": "code",
   "execution_count": 44,
   "metadata": {},
   "outputs": [
    {
     "data": {
      "text/html": [
       "<div>\n",
       "<style scoped>\n",
       "    .dataframe tbody tr th:only-of-type {\n",
       "        vertical-align: middle;\n",
       "    }\n",
       "\n",
       "    .dataframe tbody tr th {\n",
       "        vertical-align: top;\n",
       "    }\n",
       "\n",
       "    .dataframe thead th {\n",
       "        text-align: right;\n",
       "    }\n",
       "</style>\n",
       "<table border=\"1\" class=\"dataframe\">\n",
       "  <thead>\n",
       "    <tr style=\"text-align: right;\">\n",
       "      <th></th>\n",
       "      <th>AM_West_Delay</th>\n",
       "      <th>Alaska_Delay</th>\n",
       "    </tr>\n",
       "    <tr>\n",
       "      <th>City</th>\n",
       "      <th></th>\n",
       "      <th></th>\n",
       "    </tr>\n",
       "  </thead>\n",
       "  <tbody>\n",
       "    <tr>\n",
       "      <th>Los Angeles</th>\n",
       "      <td>117</td>\n",
       "      <td>62</td>\n",
       "    </tr>\n",
       "    <tr>\n",
       "      <th>Phoenix</th>\n",
       "      <td>415</td>\n",
       "      <td>12</td>\n",
       "    </tr>\n",
       "    <tr>\n",
       "      <th>San Diego</th>\n",
       "      <td>65</td>\n",
       "      <td>20</td>\n",
       "    </tr>\n",
       "    <tr>\n",
       "      <th>San Francisco</th>\n",
       "      <td>129</td>\n",
       "      <td>102</td>\n",
       "    </tr>\n",
       "    <tr>\n",
       "      <th>Seattle</th>\n",
       "      <td>61</td>\n",
       "      <td>305</td>\n",
       "    </tr>\n",
       "  </tbody>\n",
       "</table>\n",
       "</div>"
      ],
      "text/plain": [
       "               AM_West_Delay  Alaska_Delay\n",
       "City                                      \n",
       "Los Angeles              117            62\n",
       "Phoenix                  415            12\n",
       "San Diego                 65            20\n",
       "San Francisco            129           102\n",
       "Seattle                   61           305"
      ]
     },
     "execution_count": 44,
     "metadata": {},
     "output_type": "execute_result"
    },
    {
     "data": {
      "image/png": "[encoded data removed]",
      "text/plain": [
       "<Figure size 432x288 with 1 Axes>"
      ]
     },
     "metadata": {},
     "output_type": "display_data"
    }
   ],
   "source": [
    "df3=df.groupby('City')['AM_West_Delay','Alaska_Delay'].mean()\n",
    "df3.plot.bar()\n",
    "plt.suptitle('Dealyed Chart of AM_West and Alaska Airlines')\n",
    "plt.xlabel('City')\n",
    "plt.ylabel('Delay Time')\n",
    "\n",
    "df3.head()"
   ]
  },
  {
   "cell_type": "markdown",
   "metadata": {},
   "source": [
    "Conclusion:\n",
    "\n",
    "AM_West experianced more delays than Alaska, except for those who traveled to Seattle. Over all Pheoniex and Seattle expieranced the most delays. "
   ]
  }
 ],
 "metadata": {
  "kernelspec": {
   "display_name": "Python 3",
   "language": "python",
   "name": "python3"
  },
  "language_info": {
   "codemirror_mode": {
    "name": "ipython",
    "version": 3
   },
   "file_extension": ".py",
   "mimetype": "text/x-python",
   "name": "python",
   "nbconvert_exporter": "python",
   "pygments_lexer": "ipython3",
   "version": "3.6.5"
  }
 },
 "nbformat": 4,
 "nbformat_minor": 2
}
